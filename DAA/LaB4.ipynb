{
 "cells": [
  {
   "cell_type": "markdown",
   "id": "d7fea87e",
   "metadata": {},
   "source": [
    "# INSERTION SORT DATE : 21/03/2023"
   ]
  },
  {
   "cell_type": "code",
   "execution_count": 14,
   "id": "ca6ab9e7",
   "metadata": {},
   "outputs": [
    {
     "name": "stdout",
     "output_type": "stream",
     "text": [
      "Enter the Numbers = 9 8 7 6 5 4 3 2 1 0 -1 -2 -5 -8 -98\n",
      "After sorting array =  [-98, -8, -5, -2, -1, 0, 1, 2, 3, 4, 5, 6, 7, 8, 9]\n",
      "Time Taken to complete the execution =  0.00036240000008547213 seconds\n"
     ]
    }
   ],
   "source": [
    "import timeit\n",
    "def insertionsort(arr):\n",
    "    for i in range(1,len(arr)):\n",
    "        val = arr[i]\n",
    "        j = i\n",
    "        while j>0 and arr[j-1]>val:\n",
    "            arr[j] = arr[j-1]\n",
    "            j -= 1\n",
    "        arr[j] = val\n",
    "\n",
    "\n",
    "a = list(map(int,input('Enter the Numbers = ').split()))\n",
    "starttime = timeit.default_timer()\n",
    "insertionsort(a)\n",
    "print('After sorting array = ',a)\n",
    "endtime = timeit.default_timer()\n",
    "print(\"Time Taken to complete the execution = \",endtime-starttime,'seconds')"
   ]
  },
  {
   "cell_type": "markdown",
   "id": "922e0013",
   "metadata": {},
   "source": [
    "# BREADTH FIRST SEARCH"
   ]
  },
  {
   "cell_type": "code",
   "execution_count": 62,
   "id": "51524323",
   "metadata": {},
   "outputs": [
    {
     "name": "stdout",
     "output_type": "stream",
     "text": [
      "[1, 2, 7, 3, 9, 6, 4, 5, 8]\n"
     ]
    }
   ],
   "source": [
    "import collections\n",
    "def bfs(graph,s):\n",
    "    visited = list()\n",
    "    queue = collections.deque([s])\n",
    "\n",
    "    while queue:\n",
    "        vertex = queue.popleft()\n",
    "        if vertex not in visited:\n",
    "            visited.append(vertex)\n",
    "        for i in graph[vertex]:\n",
    "            if i not in visited and i not in queue:\n",
    "                queue.append(i)\n",
    "    print(visited)\n",
    "    \n",
    "dic = {1:[2,7,3],2:[9,6],3:[4,5,7,1],4:[7,3,6,5],5:[3,4,6],6:[2,8,4],7:[4,3,1],8:[6,9],9:[8,2]}\n",
    "source_node = 1\n",
    "bfs(dic,source_node)"
   ]
  }
 ],
 "metadata": {
  "kernelspec": {
   "display_name": "Python 3 (ipykernel)",
   "language": "python",
   "name": "python3"
  },
  "language_info": {
   "codemirror_mode": {
    "name": "ipython",
    "version": 3
   },
   "file_extension": ".py",
   "mimetype": "text/x-python",
   "name": "python",
   "nbconvert_exporter": "python",
   "pygments_lexer": "ipython3",
   "version": "3.9.12"
  }
 },
 "nbformat": 4,
 "nbformat_minor": 5
}
