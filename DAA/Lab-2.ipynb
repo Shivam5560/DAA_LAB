{
 "cells": [
  {
   "cell_type": "markdown",
   "id": "b607b313",
   "metadata": {},
   "source": [
    "# BINARY SEARCH"
   ]
  },
  {
   "cell_type": "code",
   "execution_count": 1,
   "id": "771072e0",
   "metadata": {},
   "outputs": [
    {
     "name": "stdout",
     "output_type": "stream",
     "text": [
      "Enter the numbers = 2 5 8 9 15 20 25 30 32 37 40 45 48 50 55\n",
      "No to be searched = 10\n",
      "Not found \n"
     ]
    }
   ],
   "source": [
    "arr = list(map(int,input(\"Enter the numbers = \").split()))\n",
    "search_element = int(input(\"No to be searched = \"))\n",
    "n = len(arr)\n",
    "l = 0\n",
    "h = n-1\n",
    "mid = 0\n",
    "flag = 0\n",
    "while l <= h:\n",
    "    mid = (l+h)//2\n",
    "    if arr[mid] == search_element:\n",
    "        flag = 1\n",
    "        break\n",
    "    elif search_element > arr[mid]:\n",
    "        l = mid + 1\n",
    "    else:\n",
    "        h = mid - 1\n",
    "if flag == 0:\n",
    "    print(\"Not found \")\n",
    "else:\n",
    "    print(\"Found at position \",mid+1)"
   ]
  },
  {
   "cell_type": "markdown",
   "id": "563870a7",
   "metadata": {},
   "source": [
    "# RECURSIVE WAY OF BINARY SEARCH"
   ]
  },
  {
   "cell_type": "code",
   "execution_count": 2,
   "id": "5cdd4df6",
   "metadata": {},
   "outputs": [
    {
     "name": "stdout",
     "output_type": "stream",
     "text": [
      "Enter the numbers = 2 5 8 9 15 20 25 30 32 37 40 45 48 50 55\n",
      "No to be searched = 55\n",
      "Found at position  15\n"
     ]
    }
   ],
   "source": [
    "def binary(arr,l,h,search_element):\n",
    "    if l>h:\n",
    "        return -1\n",
    "    else:\n",
    "        mid = (l+h)//2\n",
    "        if arr[mid] == search_element:\n",
    "            return mid\n",
    "        elif search_element > arr[mid]:\n",
    "            return binary(arr,mid+1,h,search_element)\n",
    "        else:\n",
    "            return binary(arr,l,mid-1,search_element)\n",
    "        \n",
    "arr = list(map(int,input(\"Enter the numbers = \").split()))\n",
    "search_element = int(input(\"No to be searched = \"))\n",
    "n = len(arr)\n",
    "l = 0\n",
    "h = n-1\n",
    "result = binary(arr,l,h,search_element)\n",
    "if result == -1:\n",
    "    print(\"Not found \")\n",
    "else:\n",
    "    print(\"Found at position \",result+1)"
   ]
  },
  {
   "cell_type": "markdown",
   "id": "2a0dfada",
   "metadata": {},
   "source": [
    "# Quick Sort"
   ]
  },
  {
   "cell_type": "code",
   "execution_count": 3,
   "id": "7aea132e",
   "metadata": {},
   "outputs": [
    {
     "name": "stdout",
     "output_type": "stream",
     "text": [
      "Enter the numbers = 8 1 6 5 2 9 10 16 15\n",
      "1 2 5 6 8 9 10 15 16\n"
     ]
    }
   ],
   "source": [
    "def partition(arr,i,j):\n",
    "    pivot = arr[j]\n",
    "    pindex = i\n",
    "    for x in range(i,j):\n",
    "        if arr[x]<=pivot:\n",
    "            arr[x],arr[pindex]=arr[pindex],arr[x]\n",
    "            pindex+=1\n",
    "    arr[pindex],arr[j]=arr[j],arr[pindex]\n",
    "    return pindex\n",
    "\n",
    "def quicksort(arr,l,h):\n",
    "    if l <= h :\n",
    "        mid = partition(arr,l,h)\n",
    "        quicksort(arr,l,mid-1)\n",
    "        quicksort(arr,mid+1,h)\n",
    "    \n",
    "arr = list(map(int,input(\"Enter the numbers = \").split()))\n",
    "n = len(arr)\n",
    "quicksort(arr,0,n-1)\n",
    "print(*arr)"
   ]
  }
 ],
 "metadata": {
  "kernelspec": {
   "display_name": "Python 3 (ipykernel)",
   "language": "python",
   "name": "python3"
  },
  "language_info": {
   "codemirror_mode": {
    "name": "ipython",
    "version": 3
   },
   "file_extension": ".py",
   "mimetype": "text/x-python",
   "name": "python",
   "nbconvert_exporter": "python",
   "pygments_lexer": "ipython3",
   "version": "3.9.12"
  }
 },
 "nbformat": 4,
 "nbformat_minor": 5
}
