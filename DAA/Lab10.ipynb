{
 "cells": [
  {
   "cell_type": "markdown",
   "id": "8421f3e4",
   "metadata": {},
   "source": [
    "# FLOYD'S ALGORITHM"
   ]
  },
  {
   "cell_type": "code",
   "execution_count": 36,
   "id": "cd3a45b5",
   "metadata": {},
   "outputs": [
    {
     "name": "stdout",
     "output_type": "stream",
     "text": [
      "Orignal Graph :\n",
      "    1 2 3 4\n",
      "   ________\n",
      "1 | 0 3 5 6\n",
      "2 | 5 0 2 3\n",
      "3 | 3 6 0 1\n",
      "4 | 2 5 7 0\n",
      "\n",
      "Distance Matrix :\n",
      "    1 2 3 4\n",
      "   ________\n",
      "1 | 0 3 5 6\n",
      "2 | 5 0 2 3\n",
      "3 | 3 6 0 1\n",
      "4 | 2 5 7 0\n",
      "\n",
      "Where to Where separated by symbol(-) = 3-4\n",
      "Shortest path distance =  1\n"
     ]
    }
   ],
   "source": [
    "def floyd(wg,n):\n",
    "    for k in range(n):\n",
    "        for i in range(n):\n",
    "            for j in range(n):\n",
    "                wg[i][j] = min(wg[i][j] , wg[i][k]+wg[k][j])\n",
    "    return wg\n",
    "\n",
    "\n",
    "\n",
    "infinity = 9999\n",
    "wg = [[0,3,infinity,7],\n",
    "      [8,0,2,infinity],\n",
    "      [5,infinity,0,1],\n",
    "      [2,infinity,infinity,0]]\n",
    "\n",
    "dis = floyd(wg,len(wg))\n",
    "\n",
    "print('Orignal Graph :')\n",
    "print('    1 2 3 4')\n",
    "print('   ________')\n",
    "for x in range(len(wg)):\n",
    "    print(x+1,'|',*wg[x])\n",
    "\n",
    "print('\\nDistance Matrix :')\n",
    "print('    1 2 3 4')\n",
    "print('   ________')\n",
    "for x in range(len(dis)):\n",
    "    print(x+1,'|',*dis[x])\n",
    "    \n",
    "    \n",
    "arr =list(map(int,input('\\nWhere to Where separated by symbol(-) = ').split('-')))\n",
    "print('Shortest path distance = ',dis[arr[0]-1][arr[1]-1])"
   ]
  },
  {
   "cell_type": "markdown",
   "id": "ad4a6777",
   "metadata": {},
   "source": [
    "# WARSHALL'S ALGORITHM"
   ]
  },
  {
   "cell_type": "code",
   "execution_count": 38,
   "id": "8e08dc6e",
   "metadata": {},
   "outputs": [
    {
     "name": "stdout",
     "output_type": "stream",
     "text": [
      "Orignal Graph :\n",
      "    1 2 3 4\n",
      "   ________\n",
      "1 | 1 1 1 1\n",
      "2 | 1 1 1 1\n",
      "3 | 0 0 0 0\n",
      "4 | 1 1 1 1\n",
      "\n",
      "Distance Matrix :\n",
      "    1 2 3 4\n",
      "   ________\n",
      "1 | 1 1 1 1\n",
      "2 | 1 1 1 1\n",
      "3 | 0 0 0 0\n",
      "4 | 1 1 1 1\n",
      "\n",
      "Where to Where separated by symbol(-) = 1-4\n",
      "Path available\n"
     ]
    }
   ],
   "source": [
    "def war(wg,n):\n",
    "    for k in range(n):\n",
    "        for i in range(n):\n",
    "            for j in range(n):\n",
    "                wg[i][j] = wg[i][j] or (wg[i][k] and wg[k][j])\n",
    "    return wg\n",
    "\n",
    "\n",
    "\n",
    "wg = [[0,1,0,0],\n",
    "      [0,0,0,1],\n",
    "      [0,0,0,0],\n",
    "      [1,0,1,0]]\n",
    "\n",
    "dis = war(wg,len(wg))\n",
    "print('Orignal Graph :')\n",
    "print('    1 2 3 4')\n",
    "print('   ________')\n",
    "for x in range(len(wg)):\n",
    "    print(x+1,'|',*wg[x])\n",
    "\n",
    "print('\\nDistance Matrix :')\n",
    "print('    1 2 3 4')\n",
    "print('   ________')\n",
    "for x in range(len(dis)):\n",
    "    print(x+1,'|',*dis[x])\n",
    "    \n",
    "    \n",
    "arr =list(map(int,input('\\nWhere to Where separated by symbol(-) = ').split('-')))\n",
    "if dis[arr[0]-1][arr[1]-1]:\n",
    "    print('Path available')\n",
    "else:\n",
    "    print('Path Unavailable')"
   ]
  },
  {
   "cell_type": "code",
   "execution_count": null,
   "id": "d28e626f",
   "metadata": {},
   "outputs": [],
   "source": []
  }
 ],
 "metadata": {
  "kernelspec": {
   "display_name": "Python 3 (ipykernel)",
   "language": "python",
   "name": "python3"
  },
  "language_info": {
   "codemirror_mode": {
    "name": "ipython",
    "version": 3
   },
   "file_extension": ".py",
   "mimetype": "text/x-python",
   "name": "python",
   "nbconvert_exporter": "python",
   "pygments_lexer": "ipython3",
   "version": "3.9.12"
  }
 },
 "nbformat": 4,
 "nbformat_minor": 5
}
