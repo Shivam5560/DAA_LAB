{
 "cells": [
  {
   "cell_type": "markdown",
   "id": "92ba85a3",
   "metadata": {},
   "source": [
    "# MODIFIED DFS FOR TOPOLOGICAL SORTING"
   ]
  },
  {
   "cell_type": "code",
   "execution_count": 25,
   "id": "70621929",
   "metadata": {},
   "outputs": [
    {
     "name": "stdout",
     "output_type": "stream",
     "text": [
      "[1, 2, 4, 3]\n",
      "['A', 'C', 'B', 'D', 'E', 'P', 'X']\n"
     ]
    }
   ],
   "source": [
    "def modify_dfs(visited,root):\n",
    "    for x in dic[root]: \n",
    "        if x not in visited:\n",
    "            modify_dfs(visited,x)\n",
    "    else:\n",
    "        visited.append(root)\n",
    "visited = []\n",
    "dic = {1:[3,2],2:[4],3:[],4:[3]}\n",
    "source_node = 1\n",
    "modify_dfs(visited,source_node)\n",
    "print(visited[::-1])\n",
    "visited=[]\n",
    "dic = {'A':['B','C','X'],'B':['D','E'],'C':['D','X'],'D':['P','E'],'E':[],'P':['X'],'X':[]}\n",
    "source_node = 'A'\n",
    "modify_dfs(visited,source_node)\n",
    "print(visited[::-1])"
   ]
  },
  {
   "cell_type": "code",
   "execution_count": 23,
   "id": "b80e0800",
   "metadata": {},
   "outputs": [
    {
     "name": "stdout",
     "output_type": "stream",
     "text": [
      "[1, 2, 4, 3]\n"
     ]
    }
   ],
   "source": [
    "def modify_dfs(visited,root):\n",
    "    for x in dic[root]: \n",
    "        if x not in visited:\n",
    "            if x==[]:\n",
    "                visited.append(root)\n",
    "            else:\n",
    "                modify_dfs(visited,x)\n",
    "visited = []\n",
    "dic = {1:[3,2,[]],2:[4,[]],3:[[]],4:[3,[]]}\n",
    "#dic = {'A':['B','C','X',[]],'B':['D','E',[]],'C':['D','X',[]],'D':['P','E',[]],'E':[[]],'P':['X',[]],'X':[[]]}\n",
    "#dic = {'A':['B','C','X'],'B':['D','E'],'C':['D','X'],'D':['P','E'],'E':[],'P':['X'],'X':[]}\n",
    "#print(dic)\n",
    "source_node = 1\n",
    "modify_dfs(visited,source_node)\n",
    "print(visited[::-1])"
   ]
  },
  {
   "cell_type": "code",
   "execution_count": 13,
   "id": "538c9cb5",
   "metadata": {},
   "outputs": [
    {
     "name": "stdout",
     "output_type": "stream",
     "text": [
      "[5, 6, 1, 3, 4, 2]\n"
     ]
    }
   ],
   "source": [
    "from collections import defaultdict\n",
    " \n",
    "class Graph:\n",
    "    def __init__(self, vertices):\n",
    "        self.graph = defaultdict(list)\n",
    "        self.V = vertices\n",
    "    \n",
    "    def add_edge(self, u, v):\n",
    "        self.graph[u-1].append(v-1)    \n",
    "    \n",
    "    def helper(self,u,visited, res):\n",
    "        visited[u] = True\n",
    "        for i in self.graph[u]:\n",
    "            if visited[i] == False:\n",
    "                self.helper(i, visited, res)\n",
    "        res.insert(0, u+1)    \n",
    "    def topological_sort(self):\n",
    "        visited = [False]*self.V\n",
    "        res =[]\n",
    "        for i in reversed(range(self.V)):\n",
    "            if visited[i] == False:\n",
    "                self.helper(i, visited, res)\n",
    "                \n",
    "        return res\n",
    "## Driver code\n",
    "A = 6\n",
    "B = [[6, 3], [6, 1], [5, 1], [5, 2], [3, 4], [4, 2]]\n",
    "graph = Graph(A)\n",
    "for u, v in B:\n",
    "    graph.add_edge(u, v)\n",
    "        \n",
    "res = graph.topological_sort()\n",
    "print(res) # [5, 6, 1, 3, 4, 2]\n"
   ]
  },
  {
   "cell_type": "code",
   "execution_count": 18,
   "id": "696ea88d",
   "metadata": {},
   "outputs": [
    {
     "name": "stdout",
     "output_type": "stream",
     "text": [
      "[5, 6, 1, 3, 4, 2]\n"
     ]
    }
   ],
   "source": [
    "from collections import defaultdict\n",
    " \n",
    "class Graph:\n",
    "    def __init__(self, vertices):\n",
    "        self.graph = defaultdict(list)\n",
    "        self.V = vertices    \n",
    "    def add_edge(self, u, v):\n",
    "        self.graph[u-1].append(v-1)   \n",
    "    def topological_sort(self):\n",
    "        in_degree = [0]*(self.V)\n",
    "        visited = [0]*(self.V)\n",
    "        for i in self.graph:\n",
    "            for j in self.graph[i]:\n",
    "                in_degree[j] += 1\n",
    "        top_order = []\n",
    "        queue = []\n",
    "        from heapq import heappush, heappop\n",
    "        for i in range(self.V):\n",
    "            if in_degree[i] == 0:\n",
    "                heappush(queue, i)        \n",
    "        while queue:\n",
    "            u = heappop(queue)\n",
    "            if not visited[u]:\n",
    "                top_order.append(u+1)\n",
    "                for i in self.graph[u]:\n",
    "                    in_degree[i] -= 1\n",
    "                    if in_degree[i] == 0:\n",
    "                        heappush(queue, i)\n",
    "                visited[u] = 1\n",
    "        \n",
    "        return top_order\n",
    "\n",
    "## Driver code  \n",
    "A = 6\n",
    "B = [[6, 3], [6, 1], [5, 1], [5, 2], [3, 4], [4, 2]]\n",
    "graph = Graph(A)\n",
    "for u, v in B:\n",
    "    graph.add_edge(u, v)\n",
    "        \n",
    "res = graph.topological_sort()\n",
    "print(res) # [5, 6, 1, 3, 4, 2]"
   ]
  },
  {
   "cell_type": "code",
   "execution_count": null,
   "id": "3434cefc",
   "metadata": {},
   "outputs": [],
   "source": []
  }
 ],
 "metadata": {
  "kernelspec": {
   "display_name": "Python 3 (ipykernel)",
   "language": "python",
   "name": "python3"
  },
  "language_info": {
   "codemirror_mode": {
    "name": "ipython",
    "version": 3
   },
   "file_extension": ".py",
   "mimetype": "text/x-python",
   "name": "python",
   "nbconvert_exporter": "python",
   "pygments_lexer": "ipython3",
   "version": "3.9.12"
  }
 },
 "nbformat": 4,
 "nbformat_minor": 5
}
