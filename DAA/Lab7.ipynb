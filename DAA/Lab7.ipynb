{
 "cells": [
  {
   "cell_type": "markdown",
   "id": "7073843b",
   "metadata": {},
   "source": [
    "# MAX HEAP USING CUSTOM INSERT AND DELETE OPERATIONS"
   ]
  },
  {
   "cell_type": "code",
   "execution_count": 14,
   "id": "848a034c",
   "metadata": {},
   "outputs": [
    {
     "name": "stdout",
     "output_type": "stream",
     "text": [
      "Initial Heap =  []\n",
      "Heap after insertion =  [40, 25, 15, 10, 6]\n",
      "After deletion max heap =  [25, 10, 15, 6]\n",
      "After deletion max heap =  [15, 10, 6]\n",
      "After deletion max heap =  [10, 6]\n",
      "After deletion max heap =  [6]\n",
      "After deletion max heap =  []\n",
      "Heap Sort values  [6, 10, 15, 25, 40]\n"
     ]
    }
   ],
   "source": [
    "def insert(val):\n",
    "    arr.append(val)\n",
    "    n = len(arr)\n",
    "\n",
    "    while True and n>1:\n",
    "        if arr[n-1] > arr[n//2 - 1]:\n",
    "            arr[n-1],arr[n//2 - 1] = arr[n//2 - 1],arr[n-1]\n",
    "            n = n//2\n",
    "        else:\n",
    "            break\n",
    "            \n",
    "def delete():\n",
    "    global n\n",
    "    arr[0],arr[n-1] = arr[n-1],arr[0]\n",
    "    ini = 1\n",
    "    n -= 1\n",
    "    while True:\n",
    "        if((2*ini)<=n):\n",
    "            maxi = arr[2*ini - 1]\n",
    "            pos = (2*ini)-1\n",
    "            if(2*ini)>=n:\n",
    "                pass\n",
    "            else:\n",
    "                if arr[2*ini]>maxi:\n",
    "                    maxi = arr[2*ini]\n",
    "                    pos = 2*ini\n",
    "            \n",
    "            if arr[ini-1]<maxi:\n",
    "                arr[ini-1],arr[pos] = arr[pos],arr[ini-1]\n",
    "                ini = pos+1\n",
    "            else:\n",
    "                break\n",
    "        else:\n",
    "            break\n",
    "    \n",
    "    print(\"After deletion max heap = \",arr[:n])\n",
    "    \n",
    "    \n",
    "\n",
    "arr = []\n",
    "print('Initial Heap = ',arr)\n",
    "insert(25)\n",
    "insert(40)\n",
    "insert(15)\n",
    "insert(10)\n",
    "insert(6)\n",
    "print('Heap after insertion = ',arr)\n",
    "n= len(arr)\n",
    "for x in range(len(arr)):\n",
    "    delete()\n",
    "print('Heap Sort values ',arr)"
   ]
  }
 ],
 "metadata": {
  "kernelspec": {
   "display_name": "Python 3 (ipykernel)",
   "language": "python",
   "name": "python3"
  },
  "language_info": {
   "codemirror_mode": {
    "name": "ipython",
    "version": 3
   },
   "file_extension": ".py",
   "mimetype": "text/x-python",
   "name": "python",
   "nbconvert_exporter": "python",
   "pygments_lexer": "ipython3",
   "version": "3.9.12"
  }
 },
 "nbformat": 4,
 "nbformat_minor": 5
}
