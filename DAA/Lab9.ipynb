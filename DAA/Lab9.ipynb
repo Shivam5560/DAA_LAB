{
 "cells": [
  {
   "cell_type": "markdown",
   "id": "f1592e6d",
   "metadata": {},
   "source": [
    "# KNAPSACK PROBLEM"
   ]
  },
  {
   "cell_type": "code",
   "execution_count": 4,
   "id": "2af7ca22",
   "metadata": {},
   "outputs": [
    {
     "name": "stdout",
     "output_type": "stream",
     "text": [
      "Maximum Profit =  55.333333333333336\n"
     ]
    }
   ],
   "source": [
    "def knapsack(profit, weight, capacity):\n",
    "    index = 0\n",
    "    dic = {}\n",
    "    for x, y in zip(profit, weight):\n",
    "        dic[index] = (x, y, x / y)\n",
    "        index += 1\n",
    "    dic = sorted(dic.items(), key=lambda x: x[1][2])[::-1]\n",
    "    maxi = 0\n",
    "    rem = capacity\n",
    "    for x in dic :\n",
    "        if rem==0:\n",
    "            break\n",
    "        if x[1][1] <= rem:\n",
    "            maxi += x[1][0]\n",
    "            rem -= x[1][1]\n",
    "        else:\n",
    "            maxi += x[1][2]*rem\n",
    "            rem = 0\n",
    "    return maxi\n",
    "\n",
    "\n",
    "profit = [10, 5, 15, 7, 6, 18, 3]\n",
    "weight = [2, 3, 5, 7, 1, 4, 1]\n",
    "print(\"Maximum Profit = \",knapsack(profit, weight , 15))"
   ]
  },
  {
   "cell_type": "markdown",
   "id": "9a368fc5",
   "metadata": {},
   "source": [
    "# PRIM'S ALGORITHM"
   ]
  },
  {
   "cell_type": "code",
   "execution_count": 6,
   "id": "ec448d84",
   "metadata": {},
   "outputs": [
    {
     "name": "stdout",
     "output_type": "stream",
     "text": [
      "{'A': {'B'}, 'B': {'C', 'D'}, 'D': {'E'}, 'E': {'F'}, 'F': {'G'}}\n"
     ]
    }
   ],
   "source": [
    "from collections import defaultdict\n",
    "import heapq\n",
    "\n",
    "\n",
    "def create_spanning_tree(graph, starting_vertex):\n",
    "    mst = defaultdict(set)\n",
    "    visited = set([starting_vertex])\n",
    "    edges = [\n",
    "        (cost, starting_vertex, to)\n",
    "        for to, cost in graph[starting_vertex].items()\n",
    "    ]\n",
    "    heapq.heapify(edges)\n",
    "\n",
    "    while edges:\n",
    "        cost, frm, to = heapq.heappop(edges)\n",
    "        if to not in visited:\n",
    "            visited.add(to)\n",
    "            mst[frm].add(to)\n",
    "            for to_next, cost in graph[to].items():\n",
    "                if to_next not in visited:\n",
    "                    heapq.heappush(edges, (cost, to, to_next))\n",
    "\n",
    "    return mst\n",
    "\n",
    "example_graph = {\n",
    "    'A': {'B': 2, 'C': 3},\n",
    "    'B': {'A': 2, 'C': 1, 'D': 1, 'E': 4},\n",
    "    'C': {'A': 3, 'B': 1, 'F': 5},\n",
    "    'D': {'B': 1, 'E': 1},\n",
    "    'E': {'B': 4, 'D': 1, 'F': 1},\n",
    "    'F': {'C': 5, 'E': 1, 'G': 1},\n",
    "    'G': {'F': 1},\n",
    "}\n",
    "\n",
    "print(dict(create_spanning_tree(example_graph, 'A')))"
   ]
  },
  {
   "cell_type": "markdown",
   "id": "eefa6463",
   "metadata": {},
   "source": [
    "# DJIKASTRA ALGORITHM"
   ]
  },
  {
   "cell_type": "code",
   "execution_count": 11,
   "id": "85fa40c3",
   "metadata": {},
   "outputs": [
    {
     "name": "stdout",
     "output_type": "stream",
     "text": [
      "A  :  0\n",
      "B  :  8\n",
      "C  :  5\n",
      "D  :  9\n",
      "E  :  7\n"
     ]
    }
   ],
   "source": [
    "def djikstra(adj_mat):\n",
    "    inf = 9999\n",
    "    dic = {}\n",
    "    for x in range(len(adj_mat)):\n",
    "        dic[x]=inf\n",
    "    \n",
    "    visited = set()\n",
    "    dic[0] = 0\n",
    "    start = 0\n",
    "    d = sorted(list(map(list, dic.items())),key = lambda x:x[1])\n",
    "    while start<5:\n",
    "        d=sorted(d,key=lambda x:x[1])\n",
    "        min_node = d[0][0]\n",
    "        min_node_value = d[0][1]\n",
    "        row = adj_mat[min_node]\n",
    "        for x in range(len(row)):\n",
    "            if row[x]>0:\n",
    "                dic[x] = min(min_node_value+row[x],dic[x])\n",
    "        start += 1\n",
    "        d.pop(0)\n",
    "        for y in range(len(d)):\n",
    "            key = d[y][0]\n",
    "            val = d[y][1]\n",
    "            if val > dic[key]:\n",
    "                d[y][1] = dic[key]\n",
    "                \n",
    "    return dic\n",
    "    \n",
    "adj_mat =[  [0,10,5,0,0],\n",
    "            [0,0,0,1,0],\n",
    "            [0,3,0,9,2],\n",
    "            [0,0,0,0,0],\n",
    "            [2,0,0,6,0]]\n",
    "\n",
    "mapping = {0:'A',1:'B',2:\"C\",3:\"D\",4:\"E\"}\n",
    "new_d = djikstra(adj_mat)\n",
    "for x,y in new_d.items():\n",
    "    print(mapping[x],\" : \",y)"
   ]
  }
 ],
 "metadata": {
  "kernelspec": {
   "display_name": "Python 3 (ipykernel)",
   "language": "python",
   "name": "python3"
  },
  "language_info": {
   "codemirror_mode": {
    "name": "ipython",
    "version": 3
   },
   "file_extension": ".py",
   "mimetype": "text/x-python",
   "name": "python",
   "nbconvert_exporter": "python",
   "pygments_lexer": "ipython3",
   "version": "3.9.12"
  }
 },
 "nbformat": 4,
 "nbformat_minor": 5
}
