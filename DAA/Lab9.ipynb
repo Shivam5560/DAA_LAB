{
 "cells": [
  {
   "cell_type": "code",
   "execution_count": 1,
   "id": "709997d5",
   "metadata": {},
   "outputs": [],
   "source": [
    "\n",
    "g = [[0,4,6,0,0,0],\n",
    "     [4,0,6,3,4,0],\n",
    "     [6,6,0,1,0,0],\n",
    "     [0,3,1,0,2,3],\n",
    "     [0,4,0,2,0,7],\n",
    "     [0,0,0,3,7,0]]"
   ]
  },
  {
   "cell_type": "code",
   "execution_count": null,
   "id": "2bd8acfc",
   "metadata": {},
   "outputs": [],
   "source": []
  }
 ],
 "metadata": {
  "kernelspec": {
   "display_name": "Python 3 (ipykernel)",
   "language": "python",
   "name": "python3"
  },
  "language_info": {
   "codemirror_mode": {
    "name": "ipython",
    "version": 3
   },
   "file_extension": ".py",
   "mimetype": "text/x-python",
   "name": "python",
   "nbconvert_exporter": "python",
   "pygments_lexer": "ipython3",
   "version": "3.9.12"
  }
 },
 "nbformat": 4,
 "nbformat_minor": 5
}
