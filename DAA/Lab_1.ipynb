{
 "cells": [
  {
   "cell_type": "markdown",
   "id": "88cadf2b",
   "metadata": {},
   "source": [
    "# SELECTION SORT"
   ]
  },
  {
   "cell_type": "code",
   "execution_count": 34,
   "id": "4d2ad6f7",
   "metadata": {},
   "outputs": [
    {
     "name": "stdout",
     "output_type": "stream",
     "text": [
      "Numbers separated by space = 4 3 2 1\n",
      "Sorted array =  1 2 3 4\n"
     ]
    }
   ],
   "source": [
    "# List input\n",
    "arr = list(map(int,input(\"Numbers separated by space = \").split()))\n",
    "n = len(arr)\n",
    "# for traversing through each index value\n",
    "for x in range(0,n-1):\n",
    "    index = x\n",
    "    val = arr[x]\n",
    "    \n",
    "    # for each iteration to find smallest value from (x+1 to n-1 index)\n",
    "    for y in range(x+1,n):\n",
    "        if val > arr[y]:\n",
    "            val = arr[y]\n",
    "            index = y\n",
    "    # Swapping both the values\n",
    "    arr[x] , arr[index] = val , arr[x]\n",
    "print('Sorted array = ',*arr)\n"
   ]
  },
  {
   "cell_type": "markdown",
   "id": "7104f198",
   "metadata": {},
   "source": [
    "# BUBBLE SORT"
   ]
  },
  {
   "cell_type": "code",
   "execution_count": 12,
   "id": "c718c552",
   "metadata": {},
   "outputs": [
    {
     "name": "stdout",
     "output_type": "stream",
     "text": [
      "Numbers separated by space = -8 -4 0 -1 67 434 23 \n",
      "Sorted array =  -8 -4 -1 0 23 67 434\n"
     ]
    }
   ],
   "source": [
    "# List input\n",
    "arr = list(map(int,input(\"Numbers separated by space = \").split()))\n",
    "n = len(arr)\n",
    "\n",
    "# for traversing \n",
    "for x in range(0,n-1):\n",
    "    ctr = 0\n",
    "    # for each iteration to find largest value at end\n",
    "    for y in range(0,n-(x+1)):\n",
    "        if arr[y]>arr[y+1]:\n",
    "            ctr = 1\n",
    "            # Swapping both the values\n",
    "            arr[y] , arr[y+1] = arr[y+1] , arr[y] \n",
    "    if ctr == 0:\n",
    "        break\n",
    "print('Sorted array = ',*arr)"
   ]
  },
  {
   "cell_type": "markdown",
   "id": "d9a5c03c",
   "metadata": {},
   "source": [
    "# LINEAR SEARCH"
   ]
  },
  {
   "cell_type": "code",
   "execution_count": 7,
   "id": "61792de0",
   "metadata": {},
   "outputs": [
    {
     "name": "stdout",
     "output_type": "stream",
     "text": [
      "Numbers separated by space = 1 4 2 7 9 6\n",
      "No to be searched = 7\n",
      "Found at position  4\n"
     ]
    }
   ],
   "source": [
    "# List input\n",
    "arr = list(map(int,input(\"Numbers separated by space = \").split()))\n",
    "n = len(arr)\n",
    "# User input for searching\n",
    "search = int(input(\"No to be searched = \"))\n",
    "ctr = 0 \n",
    "\n",
    "# for iteration through each value\n",
    "for x in range(0,n):\n",
    "    if arr[x] == search:\n",
    "        ctr = 1\n",
    "        break\n",
    "\n",
    "if ctr == 1:\n",
    "    print(\"Found at position \",x+1)\n",
    "else:\n",
    "    print(\"Not Found\")"
   ]
  },
  {
   "cell_type": "markdown",
   "id": "026c4c50",
   "metadata": {},
   "source": [
    "# Using While loop\n",
    "# Binary sort"
   ]
  },
  {
   "cell_type": "code",
   "execution_count": 36,
   "id": "d425ad28",
   "metadata": {},
   "outputs": [
    {
     "name": "stdout",
     "output_type": "stream",
     "text": [
      "Numbers separated by space = -2 -3 0 98 78 6 27 45\n",
      "Sorted array =  -3 -2 0 6 27 45 78 98\n"
     ]
    }
   ],
   "source": [
    "arr = list(map(int,input(\"Numbers separated by space = \").split()))\n",
    "n = len(arr)\n",
    "\n",
    "x=0\n",
    "while x < n-1:\n",
    "    y=0\n",
    "    while y < n-x-1:\n",
    "        if arr[y] > arr[y+1] :\n",
    "            # Swapping the values\n",
    "            arr[y] , arr[y+1] = arr[y+1] , arr[y]\n",
    "        y+=1\n",
    "    x+=1\n",
    "print('Sorted array = ',*arr)"
   ]
  },
  {
   "cell_type": "markdown",
   "id": "ac240aaf",
   "metadata": {},
   "source": [
    "# Selection Sort"
   ]
  },
  {
   "cell_type": "code",
   "execution_count": 39,
   "id": "f89dec1d",
   "metadata": {},
   "outputs": [
    {
     "name": "stdout",
     "output_type": "stream",
     "text": [
      "Numbers separated by space = -2 -3 0 98 78 6 27 45\n",
      "Sorted array =  -3 -2 0 6 27 45 78 98\n"
     ]
    }
   ],
   "source": [
    "arr = list(map(int,input(\"Numbers separated by space = \").split()))\n",
    "n = len(arr)\n",
    "\n",
    "x=0\n",
    "while x < n-1:\n",
    "    y = x+1\n",
    "    index = x\n",
    "    while y < n:\n",
    "        if arr[y] < arr[index]:\n",
    "            index = y\n",
    "        y+=1\n",
    "    arr[x],arr[index] = arr[index],arr[x]\n",
    "    x+=1\n",
    "print('Sorted array = ',*arr)"
   ]
  },
  {
   "cell_type": "markdown",
   "id": "30979835",
   "metadata": {},
   "source": [
    "# Linear Search"
   ]
  },
  {
   "cell_type": "code",
   "execution_count": 42,
   "id": "bdbeee07",
   "metadata": {},
   "outputs": [
    {
     "name": "stdout",
     "output_type": "stream",
     "text": [
      "Numbers separated by space = 1 3 4 7\n",
      "No to be searched = 4\n",
      "Found at position  3\n"
     ]
    }
   ],
   "source": [
    "arr = list(map(int,input(\"Numbers separated by space = \").split()))\n",
    "n = len(arr)\n",
    "# User input for searching\n",
    "search = int(input(\"No to be searched = \"))\n",
    "x=0\n",
    "ctr=0\n",
    "while x<n:\n",
    "    if arr[x] == search:\n",
    "        ctr=1\n",
    "        break\n",
    "    x+=1\n",
    "if ctr==1:\n",
    "    print(\"Found at position \",x+1)\n",
    "else:\n",
    "    print(\"Not Found\")"
   ]
  },
  {
   "cell_type": "code",
   "execution_count": null,
   "id": "384c3962",
   "metadata": {},
   "outputs": [],
   "source": []
  }
 ],
 "metadata": {
  "kernelspec": {
   "display_name": "Python 3 (ipykernel)",
   "language": "python",
   "name": "python3"
  },
  "language_info": {
   "codemirror_mode": {
    "name": "ipython",
    "version": 3
   },
   "file_extension": ".py",
   "mimetype": "text/x-python",
   "name": "python",
   "nbconvert_exporter": "python",
   "pygments_lexer": "ipython3",
   "version": "3.9.12"
  }
 },
 "nbformat": 4,
 "nbformat_minor": 5
}
