{
 "cells": [
  {
   "cell_type": "markdown",
   "id": "409ec75e",
   "metadata": {},
   "source": [
    "# MERGE LISTS"
   ]
  },
  {
   "cell_type": "code",
   "execution_count": null,
   "id": "26741384",
   "metadata": {},
   "outputs": [],
   "source": [
    "a = [2,3,6,8,12,56]\n",
    "b = [1,3,6,10,11,23,45]\n",
    "i = 0\n",
    "j = 0\n",
    "new = []\n",
    "\n",
    "while i<len(a) and j<len(b):\n",
    "    if a[i] <= b[j]:\n",
    "        new.append(a[i])\n",
    "        i += 1\n",
    "    else:\n",
    "        new.append(b[j])\n",
    "        j += 1\n",
    "new.extend(b[j:])\n",
    "new.extend(a[i:])\n",
    "print(new)"
   ]
  },
  {
   "cell_type": "code",
   "execution_count": null,
   "id": "76e5340c",
   "metadata": {},
   "outputs": [],
   "source": [
    "def merge(a,i,j,n):\n",
    "    end1=j\n",
    "    new = []\n",
    "    while i<j and j<n:\n",
    "        if a[i] <= a[j]:\n",
    "            new.append(a[i])\n",
    "            i += 1\n",
    "        else:\n",
    "            new.append(a[j])\n",
    "            j += 1\n",
    "    new.extend(a[j:n])\n",
    "    new.extend(a[i:end1])\n",
    "    return new\n",
    "    \n",
    "    \n",
    "arr = [2,5,7,8,12,56,1,3,6,10,11,23,45]\n",
    "# split [2,5,7,8,12,56] and [1,3,6,10,11,23,45] as specified a[0:6]\n",
    "arr = merge(arr,0,len(arr)//2,len(arr))\n",
    "print(arr)"
   ]
  },
  {
   "cell_type": "markdown",
   "id": "c0dae053",
   "metadata": {},
   "source": [
    "# MERGE SORT"
   ]
  },
  {
   "cell_type": "code",
   "execution_count": 9,
   "id": "03533b0d",
   "metadata": {},
   "outputs": [
    {
     "name": "stdout",
     "output_type": "stream",
     "text": [
      "Numbers = 9 2 4 1\n",
      "[1, 2, 4, 9]\n"
     ]
    }
   ],
   "source": [
    "def merge(left,right):\n",
    "    new = []\n",
    "    i=0\n",
    "    j=0\n",
    "    while i<len(left) and j<len(right):\n",
    "        if left[i] <= right[j]:\n",
    "            new.append(left[i])\n",
    "            i += 1\n",
    "        else:\n",
    "            new.append(right[j])\n",
    "            j += 1\n",
    "    new.extend(right[j:])\n",
    "    new.extend(left[i:])\n",
    "    return new\n",
    "\n",
    "def mergesort(arr):\n",
    "    if len(arr) == 1:\n",
    "        return arr\n",
    "    mid = len(arr)//2\n",
    "    left = mergesort(arr[0:mid])\n",
    "    right = mergesort(arr[mid:])\n",
    "    return m(left,right)\n",
    "\n",
    "a = list(map(int,input('Numbers = ').split()))\n",
    "n = mergesort(a)\n",
    "print(n)"
   ]
  },
  {
   "cell_type": "code",
   "execution_count": null,
   "id": "b6bef9ed",
   "metadata": {},
   "outputs": [],
   "source": []
  }
 ],
 "metadata": {
  "kernelspec": {
   "display_name": "Python 3 (ipykernel)",
   "language": "python",
   "name": "python3"
  },
  "language_info": {
   "codemirror_mode": {
    "name": "ipython",
    "version": 3
   },
   "file_extension": ".py",
   "mimetype": "text/x-python",
   "name": "python",
   "nbconvert_exporter": "python",
   "pygments_lexer": "ipython3",
   "version": "3.9.12"
  }
 },
 "nbformat": 4,
 "nbformat_minor": 5
}
