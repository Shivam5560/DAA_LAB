{
 "cells": [
  {
   "cell_type": "code",
   "execution_count": 50,
   "id": "c52041d6",
   "metadata": {},
   "outputs": [
    {
     "name": "stdout",
     "output_type": "stream",
     "text": [
      "Initial =  [40, 25, 15, 10, 6]\n",
      "After every deletion =  [25, 10, 15, 6]\n",
      "After every deletion =  [15, 10, 6]\n",
      "After every deletion =  [10, 6]\n",
      "After every deletion =  [6]\n",
      "After every deletion =  []\n",
      "heap sort values =  [6, 10, 15, 25, 40]\n"
     ]
    }
   ],
   "source": [
    "arr = [40,25,15,10,6]\n",
    "def insert(val):\n",
    "    arr.append(val)\n",
    "    n = len(arr)\n",
    "\n",
    "    while True and n>1:\n",
    "        if arr[n-1] > arr[n//2 - 1]:\n",
    "            arr[n-1],arr[n//2 - 1] = arr[n//2 - 1],arr[n-1]\n",
    "            n = n//2\n",
    "        else:\n",
    "            break\n",
    "            \n",
    "def delete():\n",
    "    n= len(arr)\n",
    "    arr[0],arr[n-1] = arr[n-1],arr[0]\n",
    "    new_arr.append(arr.pop(-1))\n",
    "    n = len(arr)\n",
    "    \n",
    "    ini = 1\n",
    "    while True:\n",
    "        if((2*ini)<=n):\n",
    "            maxi = arr[2*ini - 1]\n",
    "            pos = (2*ini)-1\n",
    "            if(2*ini)>=n:\n",
    "                pass\n",
    "            else:\n",
    "                if arr[2*ini]>maxi:\n",
    "                    maxi = arr[2*ini]\n",
    "                    pos = 2*ini\n",
    "            \n",
    "            if arr[ini-1]<maxi:\n",
    "                arr[ini-1],arr[pos] = arr[pos],arr[ini-1]\n",
    "                ini = pos+1\n",
    "            else:\n",
    "                break\n",
    "        else:\n",
    "            break\n",
    "    print(\"After deletion = \",arr)\n",
    "\n",
    "new_arr=[]\n",
    "print('Initial = ',arr)\n",
    "for x in range(len(arr)):\n",
    "    delete()\n",
    "print('heap sort values = ',new_arr[::-1])"
   ]
  },
  {
   "cell_type": "code",
   "execution_count": 53,
   "id": "9551563d",
   "metadata": {},
   "outputs": [],
   "source": [
    "def heapify():\n",
    "    n = len(arr)\n",
    "    while n>0:\n",
    "        if n*2 <= len(arr) or n*2+1 <= len(arr):\n",
    "            pass\n",
    "        n-=1\n",
    "arr = [6,12,18,80,60,10,70,50]"
   ]
  }
 ],
 "metadata": {
  "kernelspec": {
   "display_name": "Python 3 (ipykernel)",
   "language": "python",
   "name": "python3"
  },
  "language_info": {
   "codemirror_mode": {
    "name": "ipython",
    "version": 3
   },
   "file_extension": ".py",
   "mimetype": "text/x-python",
   "name": "python",
   "nbconvert_exporter": "python",
   "pygments_lexer": "ipython3",
   "version": "3.9.12"
  }
 },
 "nbformat": 4,
 "nbformat_minor": 5
}
